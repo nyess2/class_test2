{
  "nbformat": 4,
  "nbformat_minor": 0,
  "metadata": {
    "colab": {
      "provenance": [],
      "mount_file_id": "1-La8x_4CFrBmpqFE4_h5M2ZBLbeA3Ip9",
      "authorship_tag": "ABX9TyPb4BEHoOZGcSyoV8ozMkjo",
      "include_colab_link": true
    },
    "kernelspec": {
      "name": "python3",
      "display_name": "Python 3"
    },
    "language_info": {
      "name": "python"
    }
  },
  "cells": [
    {
      "cell_type": "markdown",
      "metadata": {
        "id": "view-in-github",
        "colab_type": "text"
      },
      "source": [
        "<a href=\"https://colab.research.google.com/github/nyess2/class_test2/blob/main/%EC%9E%90%EB%A3%8C%EA%B5%AC%EC%A1%B0_%ED%95%A8%EC%88%98_%EA%B3%BC%EC%A0%9C.ipynb\" target=\"_parent\"><img src=\"https://colab.research.google.com/assets/colab-badge.svg\" alt=\"Open In Colab\"/></a>"
      ]
    },
    {
      "cell_type": "code",
      "source": [
        "#1. 하나의 정수를 넘겨받아 절대값을 구하여 return하는 함수 f1()을 정의하시오.\n",
        "def f1(n):\n",
        "  return abs(n)\n",
        "f1(-11)"
      ],
      "metadata": {
        "id": "bgfGWioyoYB4"
      },
      "execution_count": null,
      "outputs": []
    },
    {
      "cell_type": "code",
      "source": [
        "#2. 두 정수를 넘겨받아 더 큰 수를 구하여  return하는 함수 f2()를 정의하시오.\n",
        "def f2(a,b):\n",
        "  if a>b:\n",
        "    return a\n",
        "  else:\n",
        "    return b \n",
        "f2(7,10)"
      ],
      "metadata": {
        "id": "j3wV-Q4xoYEg"
      },
      "execution_count": null,
      "outputs": []
    },
    {
      "cell_type": "code",
      "source": [
        "#3. 두 정수를 넘겨받아 큰 수와 작은 수를 구하여 차례대로 return하는 함수 f3()을 정의하시오.\n",
        "def f3(a,b):\n",
        "  if a>b:\n",
        "    return a,b\n",
        "  else:\n",
        "    return b,a\n",
        "f3(11,111)"
      ],
      "metadata": {
        "id": "KuTXor6Rod74"
      },
      "execution_count": null,
      "outputs": []
    },
    {
      "cell_type": "code",
      "source": [
        "#4. 세 정수를 넘겨받아 가장 큰 수와 가장 작은 수를 구하여 return하는 함수 f4()를 정의하시오.\n",
        "def f4(a,b,c):\n",
        "  if a>b and a>c:\n",
        "    x=a\n",
        "    if b>c:\n",
        "      y=c\n",
        "    if c>b:\n",
        "      y=b\n",
        "    return x,y\n",
        "\n",
        "  if b>a and b>c:\n",
        "    x=b\n",
        "    if a>c:\n",
        "      y=c\n",
        "    if c>a:\n",
        "      y=a\n",
        "    return x,y\n",
        "\n",
        "  if c>a and c>b:\n",
        "    x=c\n",
        "    if a>b:\n",
        "      y=b\n",
        "    if b>a:\n",
        "      y=a\n",
        "    return x,y\n",
        "\n",
        "r=f4(10,9,3)\n",
        "print(r)"
      ],
      "metadata": {
        "id": "yU2PQanjoYxg"
      },
      "execution_count": null,
      "outputs": []
    },
    {
      "cell_type": "code",
      "source": [
        "#5. 하나의 리스트를 넘겨받아 원소의 갯수를 return하는 함수 f5()를 정의하시오.\n",
        "def f5(a):\n",
        "  return len(a)\n",
        "x=[1,2,3,4,5,3,2]\n",
        "r=f5(x)\n",
        "print(r)"
      ],
      "metadata": {
        "id": "NVZu1ZWAoSjP"
      },
      "execution_count": null,
      "outputs": []
    },
    {
      "cell_type": "code",
      "source": [
        "#6. 하나의 리스트를 넘겨받아 가장 큰 수를 구하여 return하는 함수 f6()를 정의하시오.\n",
        "def f6(a):\n",
        "  a.sort()\n",
        "  return a[len(a)-1]\n",
        "x=[3,32,4,5,6]\n",
        "print(f6(x))"
      ],
      "metadata": {
        "id": "ZiVPd7i7oQRh"
      },
      "execution_count": null,
      "outputs": []
    },
    {
      "cell_type": "code",
      "source": [
        "# 7. 하나의 리스트를 넘겨받아 가장 큰 수와 가장 작은 수의 차를 구하여 return하는 함수 f7()를 정의하시오.\n",
        "n=int(input(\"리스트 갯수: \"))\n",
        "a=[]\n",
        "for i in range(n):\n",
        "  x = int(input(\"숫자 입력: \"))\n",
        "  a.append(x)\n",
        "\n",
        "def f7(x):\n",
        "  x.sort()\n",
        "  return x[len(x)-1]-x[0]\n",
        "\n",
        "print(f7(a))"
      ],
      "metadata": {
        "id": "othjhfYlomEA"
      },
      "execution_count": null,
      "outputs": []
    },
    {
      "cell_type": "code",
      "source": [
        "# 8. 하나의 리스트를 넘겨받아 전체 원소의 평균을 구하여 return하는 함수 f8()를 정의하시오.\n",
        "a=[1,2,3,4,5]\n",
        "def f8(x):\n",
        "  mean = sum(x) / len(x)\n",
        "  return mean\n",
        "\n",
        "print(f8(a))"
      ],
      "metadata": {
        "id": "W0TIV6B0omLJ"
      },
      "execution_count": null,
      "outputs": []
    },
    {
      "cell_type": "code",
      "execution_count": 11,
      "metadata": {
        "colab": {
          "base_uri": "https://localhost:8080/"
        },
        "id": "vpxywv0wWRCd",
        "outputId": "76e1aa5c-3cfe-4cc0-812e-99d6e8bd0f6c"
      },
      "outputs": [
        {
          "output_type": "stream",
          "name": "stdout",
          "text": [
            "5.0\n"
          ]
        }
      ],
      "source": [
        "#9. 하나의 리스트를 넘겨받아 오름 차순으로 정렬한 후, 원소의 갯수가 홀수개이면 중앙값을 return하고, 짝수개이면 중앙의 두 원소의 평균을 return하는 함수 f9()를 정의하시오.\n",
        "def f9(a):\n",
        "  a.sort()\n",
        "  if len(a)%2==0:\n",
        "    x=len(a)//2\n",
        "    m=(a[x-1]+a[x])/2\n",
        "  else :\n",
        "    x=len(a)//2+1\n",
        "    m=a[x-1]\n",
        "  return m\n",
        "a=[3,10,4,1,7,6]\n",
        "r=f9(a)\n",
        "print(r)"
      ]
    },
    {
      "cell_type": "code",
      "source": [
        "#10. 하나의 리스트를 넘겨받아 홀수번째 원소들만을 슬라이싱한 결과를 return하는 함수 f10()를 정의하시오.\n",
        "def f10(a):\n",
        "  k=a[ : :2]\n",
        "  return k\n",
        "a=[1,5,2,7,3]\n",
        "r=f10(a)\n",
        "print(r)"
      ],
      "metadata": {
        "colab": {
          "base_uri": "https://localhost:8080/"
        },
        "id": "6ocah8CwdQlC",
        "outputId": "2123befc-208a-4869-b5a1-fbebe08ff548"
      },
      "execution_count": null,
      "outputs": [
        {
          "output_type": "stream",
          "name": "stdout",
          "text": [
            "[1, 2, 3]\n"
          ]
        }
      ]
    }
  ]
}